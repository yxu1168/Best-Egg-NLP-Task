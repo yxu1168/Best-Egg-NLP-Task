{
  "nbformat": 4,
  "nbformat_minor": 0,
  "metadata": {
    "colab": {
      "name": "Best_Egg_NLP_Task.ipynb",
      "provenance": [],
      "collapsed_sections": []
    },
    "kernelspec": {
      "name": "python3",
      "display_name": "Python 3"
    },
    "language_info": {
      "name": "python"
    }
  },
  "cells": [
    {
      "cell_type": "markdown",
      "source": [
        "## This Notebook is a solution of Best_Egg assighnment of a NLP Task. \n",
        "\n",
        "## Using the provided training data to build a functioning sentiment model to predict the score column. Use comments to document major steps (what and why) and any important decisions you make along the way. Choose an appropriate performance metric and display how well your model performs on the validation set.\n",
        "\n",
        "## Data is downloaded from this public GitHub repo:\n",
        "\n",
        "https://github.com/MarletteFunding/marlette-ds-challenge2"
      ],
      "metadata": {
        "id": "0OuTF4KbPXI-"
      }
    },
    {
      "cell_type": "code",
      "metadata": {
        "id": "eO1KVscn5KiC",
        "colab": {
          "base_uri": "https://localhost:8080/"
        },
        "outputId": "e0b0a790-f46a-4d6d-eba7-611e9e097190"
      },
      "source": [
        "from google.colab import drive\n",
        "drive.mount('/content/drive')"
      ],
      "execution_count": 1,
      "outputs": [
        {
          "output_type": "stream",
          "name": "stdout",
          "text": [
            "Mounted at /content/drive\n"
          ]
        }
      ]
    },
    {
      "cell_type": "markdown",
      "source": [
        "## Upload data from Google Drive"
      ],
      "metadata": {
        "id": "7xyhuL5xu4hs"
      }
    },
    {
      "cell_type": "code",
      "metadata": {
        "id": "Mkn8XVG5loeW"
      },
      "source": [
        "import pandas as pd # data processing, CSV file I/O (e.g. pd.read_csv)\n",
        "path='/content/drive/My Drive/Data_Sets/'\n",
        "df_train = pd.read_csv(path+'NLP_task_train.csv.zip',header=0,index_col=0,compression='infer')\n",
        "df_validate = pd.read_csv(path+'NLP_task_validate.csv.zip',header=0,index_col=0,compression='infer')"
      ],
      "execution_count": 4,
      "outputs": []
    },
    {
      "cell_type": "markdown",
      "source": [
        "## Explore the data, Visulization target (Scores), handle missing data"
      ],
      "metadata": {
        "id": "cGfc8-9q1AOm"
      }
    },
    {
      "cell_type": "code",
      "source": [
        "df_train.head()"
      ],
      "metadata": {
        "colab": {
          "base_uri": "https://localhost:8080/",
          "height": 206
        },
        "id": "lipZTFMy3ocF",
        "outputId": "df6b389d-d9c5-4354-f5fd-8fc2596df7b5"
      },
      "execution_count": 5,
      "outputs": [
        {
          "output_type": "execute_result",
          "data": {
            "text/html": [
              "\n",
              "  <div id=\"df-edd84a82-bd81-4402-815e-a19759b85fd9\">\n",
              "    <div class=\"colab-df-container\">\n",
              "      <div>\n",
              "<style scoped>\n",
              "    .dataframe tbody tr th:only-of-type {\n",
              "        vertical-align: middle;\n",
              "    }\n",
              "\n",
              "    .dataframe tbody tr th {\n",
              "        vertical-align: top;\n",
              "    }\n",
              "\n",
              "    .dataframe thead th {\n",
              "        text-align: right;\n",
              "    }\n",
              "</style>\n",
              "<table border=\"1\" class=\"dataframe\">\n",
              "  <thead>\n",
              "    <tr style=\"text-align: right;\">\n",
              "      <th></th>\n",
              "      <th>DOCUMENT_ID</th>\n",
              "      <th>SENTENCE_ID</th>\n",
              "      <th>SENTENCE</th>\n",
              "      <th>SENTENCE_START_POS</th>\n",
              "      <th>SENTENCE_END_POS</th>\n",
              "      <th>SCORE</th>\n",
              "    </tr>\n",
              "  </thead>\n",
              "  <tbody>\n",
              "    <tr>\n",
              "      <th>0</th>\n",
              "      <td>583306034</td>\n",
              "      <td>1888104</td>\n",
              "      <td>The whole process went smooth and I am thankfu...</td>\n",
              "      <td>109</td>\n",
              "      <td>165</td>\n",
              "      <td>10.0</td>\n",
              "    </tr>\n",
              "    <tr>\n",
              "      <th>1</th>\n",
              "      <td>583306034</td>\n",
              "      <td>1888102</td>\n",
              "      <td>It was quick and easy to apply and got the app...</td>\n",
              "      <td>0</td>\n",
              "      <td>60</td>\n",
              "      <td>10.0</td>\n",
              "    </tr>\n",
              "    <tr>\n",
              "      <th>2</th>\n",
              "      <td>584193040</td>\n",
              "      <td>1909902</td>\n",
              "      <td>service</td>\n",
              "      <td>0</td>\n",
              "      <td>7</td>\n",
              "      <td>10.0</td>\n",
              "    </tr>\n",
              "    <tr>\n",
              "      <th>3</th>\n",
              "      <td>584203035</td>\n",
              "      <td>1910310</td>\n",
              "      <td>Thanks!</td>\n",
              "      <td>198</td>\n",
              "      <td>205</td>\n",
              "      <td>10.0</td>\n",
              "    </tr>\n",
              "    <tr>\n",
              "      <th>4</th>\n",
              "      <td>584200037</td>\n",
              "      <td>1910006</td>\n",
              "      <td>Thank you!</td>\n",
              "      <td>58</td>\n",
              "      <td>68</td>\n",
              "      <td>10.0</td>\n",
              "    </tr>\n",
              "  </tbody>\n",
              "</table>\n",
              "</div>\n",
              "      <button class=\"colab-df-convert\" onclick=\"convertToInteractive('df-edd84a82-bd81-4402-815e-a19759b85fd9')\"\n",
              "              title=\"Convert this dataframe to an interactive table.\"\n",
              "              style=\"display:none;\">\n",
              "        \n",
              "  <svg xmlns=\"http://www.w3.org/2000/svg\" height=\"24px\"viewBox=\"0 0 24 24\"\n",
              "       width=\"24px\">\n",
              "    <path d=\"M0 0h24v24H0V0z\" fill=\"none\"/>\n",
              "    <path d=\"M18.56 5.44l.94 2.06.94-2.06 2.06-.94-2.06-.94-.94-2.06-.94 2.06-2.06.94zm-11 1L8.5 8.5l.94-2.06 2.06-.94-2.06-.94L8.5 2.5l-.94 2.06-2.06.94zm10 10l.94 2.06.94-2.06 2.06-.94-2.06-.94-.94-2.06-.94 2.06-2.06.94z\"/><path d=\"M17.41 7.96l-1.37-1.37c-.4-.4-.92-.59-1.43-.59-.52 0-1.04.2-1.43.59L10.3 9.45l-7.72 7.72c-.78.78-.78 2.05 0 2.83L4 21.41c.39.39.9.59 1.41.59.51 0 1.02-.2 1.41-.59l7.78-7.78 2.81-2.81c.8-.78.8-2.07 0-2.86zM5.41 20L4 18.59l7.72-7.72 1.47 1.35L5.41 20z\"/>\n",
              "  </svg>\n",
              "      </button>\n",
              "      \n",
              "  <style>\n",
              "    .colab-df-container {\n",
              "      display:flex;\n",
              "      flex-wrap:wrap;\n",
              "      gap: 12px;\n",
              "    }\n",
              "\n",
              "    .colab-df-convert {\n",
              "      background-color: #E8F0FE;\n",
              "      border: none;\n",
              "      border-radius: 50%;\n",
              "      cursor: pointer;\n",
              "      display: none;\n",
              "      fill: #1967D2;\n",
              "      height: 32px;\n",
              "      padding: 0 0 0 0;\n",
              "      width: 32px;\n",
              "    }\n",
              "\n",
              "    .colab-df-convert:hover {\n",
              "      background-color: #E2EBFA;\n",
              "      box-shadow: 0px 1px 2px rgba(60, 64, 67, 0.3), 0px 1px 3px 1px rgba(60, 64, 67, 0.15);\n",
              "      fill: #174EA6;\n",
              "    }\n",
              "\n",
              "    [theme=dark] .colab-df-convert {\n",
              "      background-color: #3B4455;\n",
              "      fill: #D2E3FC;\n",
              "    }\n",
              "\n",
              "    [theme=dark] .colab-df-convert:hover {\n",
              "      background-color: #434B5C;\n",
              "      box-shadow: 0px 1px 3px 1px rgba(0, 0, 0, 0.15);\n",
              "      filter: drop-shadow(0px 1px 2px rgba(0, 0, 0, 0.3));\n",
              "      fill: #FFFFFF;\n",
              "    }\n",
              "  </style>\n",
              "\n",
              "      <script>\n",
              "        const buttonEl =\n",
              "          document.querySelector('#df-edd84a82-bd81-4402-815e-a19759b85fd9 button.colab-df-convert');\n",
              "        buttonEl.style.display =\n",
              "          google.colab.kernel.accessAllowed ? 'block' : 'none';\n",
              "\n",
              "        async function convertToInteractive(key) {\n",
              "          const element = document.querySelector('#df-edd84a82-bd81-4402-815e-a19759b85fd9');\n",
              "          const dataTable =\n",
              "            await google.colab.kernel.invokeFunction('convertToInteractive',\n",
              "                                                     [key], {});\n",
              "          if (!dataTable) return;\n",
              "\n",
              "          const docLinkHtml = 'Like what you see? Visit the ' +\n",
              "            '<a target=\"_blank\" href=https://colab.research.google.com/notebooks/data_table.ipynb>data table notebook</a>'\n",
              "            + ' to learn more about interactive tables.';\n",
              "          element.innerHTML = '';\n",
              "          dataTable['output_type'] = 'display_data';\n",
              "          await google.colab.output.renderOutput(dataTable, element);\n",
              "          const docLink = document.createElement('div');\n",
              "          docLink.innerHTML = docLinkHtml;\n",
              "          element.appendChild(docLink);\n",
              "        }\n",
              "      </script>\n",
              "    </div>\n",
              "  </div>\n",
              "  "
            ],
            "text/plain": [
              "   DOCUMENT_ID  SENTENCE_ID  ... SENTENCE_END_POS  SCORE\n",
              "0    583306034      1888104  ...              165   10.0\n",
              "1    583306034      1888102  ...               60   10.0\n",
              "2    584193040      1909902  ...                7   10.0\n",
              "3    584203035      1910310  ...              205   10.0\n",
              "4    584200037      1910006  ...               68   10.0\n",
              "\n",
              "[5 rows x 6 columns]"
            ]
          },
          "metadata": {},
          "execution_count": 5
        }
      ]
    },
    {
      "cell_type": "code",
      "source": [
        "df_train.tail()"
      ],
      "metadata": {
        "colab": {
          "base_uri": "https://localhost:8080/",
          "height": 206
        },
        "id": "spwyxq7q3_XZ",
        "outputId": "dcbc9727-fd11-4a91-a1d0-9d0aed11e99b"
      },
      "execution_count": 6,
      "outputs": [
        {
          "output_type": "execute_result",
          "data": {
            "text/html": [
              "\n",
              "  <div id=\"df-730881ae-8a79-40ac-83f4-cdfc3dac8ff3\">\n",
              "    <div class=\"colab-df-container\">\n",
              "      <div>\n",
              "<style scoped>\n",
              "    .dataframe tbody tr th:only-of-type {\n",
              "        vertical-align: middle;\n",
              "    }\n",
              "\n",
              "    .dataframe tbody tr th {\n",
              "        vertical-align: top;\n",
              "    }\n",
              "\n",
              "    .dataframe thead th {\n",
              "        text-align: right;\n",
              "    }\n",
              "</style>\n",
              "<table border=\"1\" class=\"dataframe\">\n",
              "  <thead>\n",
              "    <tr style=\"text-align: right;\">\n",
              "      <th></th>\n",
              "      <th>DOCUMENT_ID</th>\n",
              "      <th>SENTENCE_ID</th>\n",
              "      <th>SENTENCE</th>\n",
              "      <th>SENTENCE_START_POS</th>\n",
              "      <th>SENTENCE_END_POS</th>\n",
              "      <th>SCORE</th>\n",
              "    </tr>\n",
              "  </thead>\n",
              "  <tbody>\n",
              "    <tr>\n",
              "      <th>70657</th>\n",
              "      <td>689569033</td>\n",
              "      <td>3973028</td>\n",
              "      <td>good communication on each step</td>\n",
              "      <td>25</td>\n",
              "      <td>56</td>\n",
              "      <td>8.0</td>\n",
              "    </tr>\n",
              "    <tr>\n",
              "      <th>70659</th>\n",
              "      <td>689548036</td>\n",
              "      <td>3972918</td>\n",
              "      <td>Applying for this loan was a very easy experience</td>\n",
              "      <td>0</td>\n",
              "      <td>49</td>\n",
              "      <td>10.0</td>\n",
              "    </tr>\n",
              "    <tr>\n",
              "      <th>70660</th>\n",
              "      <td>689549033</td>\n",
              "      <td>3973010</td>\n",
              "      <td>Was very helpful and stayed on phone to make s...</td>\n",
              "      <td>0</td>\n",
              "      <td>103</td>\n",
              "      <td>10.0</td>\n",
              "    </tr>\n",
              "    <tr>\n",
              "      <th>70661</th>\n",
              "      <td>689564034</td>\n",
              "      <td>3973230</td>\n",
              "      <td>High Interest Rates</td>\n",
              "      <td>0</td>\n",
              "      <td>19</td>\n",
              "      <td>8.0</td>\n",
              "    </tr>\n",
              "    <tr>\n",
              "      <th>70662</th>\n",
              "      <td>689550033</td>\n",
              "      <td>3973221</td>\n",
              "      <td>I appreciate this loan opportunity from Best E...</td>\n",
              "      <td>63</td>\n",
              "      <td>120</td>\n",
              "      <td>10.0</td>\n",
              "    </tr>\n",
              "  </tbody>\n",
              "</table>\n",
              "</div>\n",
              "      <button class=\"colab-df-convert\" onclick=\"convertToInteractive('df-730881ae-8a79-40ac-83f4-cdfc3dac8ff3')\"\n",
              "              title=\"Convert this dataframe to an interactive table.\"\n",
              "              style=\"display:none;\">\n",
              "        \n",
              "  <svg xmlns=\"http://www.w3.org/2000/svg\" height=\"24px\"viewBox=\"0 0 24 24\"\n",
              "       width=\"24px\">\n",
              "    <path d=\"M0 0h24v24H0V0z\" fill=\"none\"/>\n",
              "    <path d=\"M18.56 5.44l.94 2.06.94-2.06 2.06-.94-2.06-.94-.94-2.06-.94 2.06-2.06.94zm-11 1L8.5 8.5l.94-2.06 2.06-.94-2.06-.94L8.5 2.5l-.94 2.06-2.06.94zm10 10l.94 2.06.94-2.06 2.06-.94-2.06-.94-.94-2.06-.94 2.06-2.06.94z\"/><path d=\"M17.41 7.96l-1.37-1.37c-.4-.4-.92-.59-1.43-.59-.52 0-1.04.2-1.43.59L10.3 9.45l-7.72 7.72c-.78.78-.78 2.05 0 2.83L4 21.41c.39.39.9.59 1.41.59.51 0 1.02-.2 1.41-.59l7.78-7.78 2.81-2.81c.8-.78.8-2.07 0-2.86zM5.41 20L4 18.59l7.72-7.72 1.47 1.35L5.41 20z\"/>\n",
              "  </svg>\n",
              "      </button>\n",
              "      \n",
              "  <style>\n",
              "    .colab-df-container {\n",
              "      display:flex;\n",
              "      flex-wrap:wrap;\n",
              "      gap: 12px;\n",
              "    }\n",
              "\n",
              "    .colab-df-convert {\n",
              "      background-color: #E8F0FE;\n",
              "      border: none;\n",
              "      border-radius: 50%;\n",
              "      cursor: pointer;\n",
              "      display: none;\n",
              "      fill: #1967D2;\n",
              "      height: 32px;\n",
              "      padding: 0 0 0 0;\n",
              "      width: 32px;\n",
              "    }\n",
              "\n",
              "    .colab-df-convert:hover {\n",
              "      background-color: #E2EBFA;\n",
              "      box-shadow: 0px 1px 2px rgba(60, 64, 67, 0.3), 0px 1px 3px 1px rgba(60, 64, 67, 0.15);\n",
              "      fill: #174EA6;\n",
              "    }\n",
              "\n",
              "    [theme=dark] .colab-df-convert {\n",
              "      background-color: #3B4455;\n",
              "      fill: #D2E3FC;\n",
              "    }\n",
              "\n",
              "    [theme=dark] .colab-df-convert:hover {\n",
              "      background-color: #434B5C;\n",
              "      box-shadow: 0px 1px 3px 1px rgba(0, 0, 0, 0.15);\n",
              "      filter: drop-shadow(0px 1px 2px rgba(0, 0, 0, 0.3));\n",
              "      fill: #FFFFFF;\n",
              "    }\n",
              "  </style>\n",
              "\n",
              "      <script>\n",
              "        const buttonEl =\n",
              "          document.querySelector('#df-730881ae-8a79-40ac-83f4-cdfc3dac8ff3 button.colab-df-convert');\n",
              "        buttonEl.style.display =\n",
              "          google.colab.kernel.accessAllowed ? 'block' : 'none';\n",
              "\n",
              "        async function convertToInteractive(key) {\n",
              "          const element = document.querySelector('#df-730881ae-8a79-40ac-83f4-cdfc3dac8ff3');\n",
              "          const dataTable =\n",
              "            await google.colab.kernel.invokeFunction('convertToInteractive',\n",
              "                                                     [key], {});\n",
              "          if (!dataTable) return;\n",
              "\n",
              "          const docLinkHtml = 'Like what you see? Visit the ' +\n",
              "            '<a target=\"_blank\" href=https://colab.research.google.com/notebooks/data_table.ipynb>data table notebook</a>'\n",
              "            + ' to learn more about interactive tables.';\n",
              "          element.innerHTML = '';\n",
              "          dataTable['output_type'] = 'display_data';\n",
              "          await google.colab.output.renderOutput(dataTable, element);\n",
              "          const docLink = document.createElement('div');\n",
              "          docLink.innerHTML = docLinkHtml;\n",
              "          element.appendChild(docLink);\n",
              "        }\n",
              "      </script>\n",
              "    </div>\n",
              "  </div>\n",
              "  "
            ],
            "text/plain": [
              "       DOCUMENT_ID  SENTENCE_ID  ... SENTENCE_END_POS  SCORE\n",
              "70657    689569033      3973028  ...               56    8.0\n",
              "70659    689548036      3972918  ...               49   10.0\n",
              "70660    689549033      3973010  ...              103   10.0\n",
              "70661    689564034      3973230  ...               19    8.0\n",
              "70662    689550033      3973221  ...              120   10.0\n",
              "\n",
              "[5 rows x 6 columns]"
            ]
          },
          "metadata": {},
          "execution_count": 6
        }
      ]
    },
    {
      "cell_type": "code",
      "source": [
        "df_validate.head()"
      ],
      "metadata": {
        "colab": {
          "base_uri": "https://localhost:8080/",
          "height": 206
        },
        "id": "0rMNSz9eTPc0",
        "outputId": "7ed10a21-9174-4c92-d720-4ca278ce97f7"
      },
      "execution_count": 7,
      "outputs": [
        {
          "output_type": "execute_result",
          "data": {
            "text/html": [
              "\n",
              "  <div id=\"df-a9ab1111-7304-4c47-b06f-b7254d36bd2d\">\n",
              "    <div class=\"colab-df-container\">\n",
              "      <div>\n",
              "<style scoped>\n",
              "    .dataframe tbody tr th:only-of-type {\n",
              "        vertical-align: middle;\n",
              "    }\n",
              "\n",
              "    .dataframe tbody tr th {\n",
              "        vertical-align: top;\n",
              "    }\n",
              "\n",
              "    .dataframe thead th {\n",
              "        text-align: right;\n",
              "    }\n",
              "</style>\n",
              "<table border=\"1\" class=\"dataframe\">\n",
              "  <thead>\n",
              "    <tr style=\"text-align: right;\">\n",
              "      <th></th>\n",
              "      <th>DOCUMENT_ID</th>\n",
              "      <th>SENTENCE_ID</th>\n",
              "      <th>SENTENCE</th>\n",
              "      <th>SENTENCE_START_POS</th>\n",
              "      <th>SENTENCE_END_POS</th>\n",
              "      <th>SCORE</th>\n",
              "    </tr>\n",
              "  </thead>\n",
              "  <tbody>\n",
              "    <tr>\n",
              "      <th>7</th>\n",
              "      <td>584207033</td>\n",
              "      <td>1910601</td>\n",
              "      <td>The loan process was super easy</td>\n",
              "      <td>0</td>\n",
              "      <td>31</td>\n",
              "      <td>10.0</td>\n",
              "    </tr>\n",
              "    <tr>\n",
              "      <th>10</th>\n",
              "      <td>584199033</td>\n",
              "      <td>1909801</td>\n",
              "      <td>The process was quick and easy!</td>\n",
              "      <td>0</td>\n",
              "      <td>31</td>\n",
              "      <td>9.0</td>\n",
              "    </tr>\n",
              "    <tr>\n",
              "      <th>13</th>\n",
              "      <td>591377035</td>\n",
              "      <td>2116637</td>\n",
              "      <td>were in my bank within just a few days from th...</td>\n",
              "      <td>178</td>\n",
              "      <td>252</td>\n",
              "      <td>10.0</td>\n",
              "    </tr>\n",
              "    <tr>\n",
              "      <th>14</th>\n",
              "      <td>591377035</td>\n",
              "      <td>2116635</td>\n",
              "      <td>I do not know what you mean by \"my score\", but...</td>\n",
              "      <td>0</td>\n",
              "      <td>131</td>\n",
              "      <td>10.0</td>\n",
              "    </tr>\n",
              "    <tr>\n",
              "      <th>25</th>\n",
              "      <td>34211545</td>\n",
              "      <td>359794</td>\n",
              "      <td>Very expensive dental work and debt consolidat...</td>\n",
              "      <td>0</td>\n",
              "      <td>50</td>\n",
              "      <td>10.0</td>\n",
              "    </tr>\n",
              "  </tbody>\n",
              "</table>\n",
              "</div>\n",
              "      <button class=\"colab-df-convert\" onclick=\"convertToInteractive('df-a9ab1111-7304-4c47-b06f-b7254d36bd2d')\"\n",
              "              title=\"Convert this dataframe to an interactive table.\"\n",
              "              style=\"display:none;\">\n",
              "        \n",
              "  <svg xmlns=\"http://www.w3.org/2000/svg\" height=\"24px\"viewBox=\"0 0 24 24\"\n",
              "       width=\"24px\">\n",
              "    <path d=\"M0 0h24v24H0V0z\" fill=\"none\"/>\n",
              "    <path d=\"M18.56 5.44l.94 2.06.94-2.06 2.06-.94-2.06-.94-.94-2.06-.94 2.06-2.06.94zm-11 1L8.5 8.5l.94-2.06 2.06-.94-2.06-.94L8.5 2.5l-.94 2.06-2.06.94zm10 10l.94 2.06.94-2.06 2.06-.94-2.06-.94-.94-2.06-.94 2.06-2.06.94z\"/><path d=\"M17.41 7.96l-1.37-1.37c-.4-.4-.92-.59-1.43-.59-.52 0-1.04.2-1.43.59L10.3 9.45l-7.72 7.72c-.78.78-.78 2.05 0 2.83L4 21.41c.39.39.9.59 1.41.59.51 0 1.02-.2 1.41-.59l7.78-7.78 2.81-2.81c.8-.78.8-2.07 0-2.86zM5.41 20L4 18.59l7.72-7.72 1.47 1.35L5.41 20z\"/>\n",
              "  </svg>\n",
              "      </button>\n",
              "      \n",
              "  <style>\n",
              "    .colab-df-container {\n",
              "      display:flex;\n",
              "      flex-wrap:wrap;\n",
              "      gap: 12px;\n",
              "    }\n",
              "\n",
              "    .colab-df-convert {\n",
              "      background-color: #E8F0FE;\n",
              "      border: none;\n",
              "      border-radius: 50%;\n",
              "      cursor: pointer;\n",
              "      display: none;\n",
              "      fill: #1967D2;\n",
              "      height: 32px;\n",
              "      padding: 0 0 0 0;\n",
              "      width: 32px;\n",
              "    }\n",
              "\n",
              "    .colab-df-convert:hover {\n",
              "      background-color: #E2EBFA;\n",
              "      box-shadow: 0px 1px 2px rgba(60, 64, 67, 0.3), 0px 1px 3px 1px rgba(60, 64, 67, 0.15);\n",
              "      fill: #174EA6;\n",
              "    }\n",
              "\n",
              "    [theme=dark] .colab-df-convert {\n",
              "      background-color: #3B4455;\n",
              "      fill: #D2E3FC;\n",
              "    }\n",
              "\n",
              "    [theme=dark] .colab-df-convert:hover {\n",
              "      background-color: #434B5C;\n",
              "      box-shadow: 0px 1px 3px 1px rgba(0, 0, 0, 0.15);\n",
              "      filter: drop-shadow(0px 1px 2px rgba(0, 0, 0, 0.3));\n",
              "      fill: #FFFFFF;\n",
              "    }\n",
              "  </style>\n",
              "\n",
              "      <script>\n",
              "        const buttonEl =\n",
              "          document.querySelector('#df-a9ab1111-7304-4c47-b06f-b7254d36bd2d button.colab-df-convert');\n",
              "        buttonEl.style.display =\n",
              "          google.colab.kernel.accessAllowed ? 'block' : 'none';\n",
              "\n",
              "        async function convertToInteractive(key) {\n",
              "          const element = document.querySelector('#df-a9ab1111-7304-4c47-b06f-b7254d36bd2d');\n",
              "          const dataTable =\n",
              "            await google.colab.kernel.invokeFunction('convertToInteractive',\n",
              "                                                     [key], {});\n",
              "          if (!dataTable) return;\n",
              "\n",
              "          const docLinkHtml = 'Like what you see? Visit the ' +\n",
              "            '<a target=\"_blank\" href=https://colab.research.google.com/notebooks/data_table.ipynb>data table notebook</a>'\n",
              "            + ' to learn more about interactive tables.';\n",
              "          element.innerHTML = '';\n",
              "          dataTable['output_type'] = 'display_data';\n",
              "          await google.colab.output.renderOutput(dataTable, element);\n",
              "          const docLink = document.createElement('div');\n",
              "          docLink.innerHTML = docLinkHtml;\n",
              "          element.appendChild(docLink);\n",
              "        }\n",
              "      </script>\n",
              "    </div>\n",
              "  </div>\n",
              "  "
            ],
            "text/plain": [
              "    DOCUMENT_ID  SENTENCE_ID  ... SENTENCE_END_POS  SCORE\n",
              "7     584207033      1910601  ...               31   10.0\n",
              "10    584199033      1909801  ...               31    9.0\n",
              "13    591377035      2116637  ...              252   10.0\n",
              "14    591377035      2116635  ...              131   10.0\n",
              "25     34211545       359794  ...               50   10.0\n",
              "\n",
              "[5 rows x 6 columns]"
            ]
          },
          "metadata": {},
          "execution_count": 7
        }
      ]
    },
    {
      "cell_type": "code",
      "source": [
        "df_validate.tail()"
      ],
      "metadata": {
        "colab": {
          "base_uri": "https://localhost:8080/",
          "height": 206
        },
        "id": "NwU2ZlRSTMH4",
        "outputId": "b8ca3d5e-997c-40bb-929f-d0c63fd66346"
      },
      "execution_count": 8,
      "outputs": [
        {
          "output_type": "execute_result",
          "data": {
            "text/html": [
              "\n",
              "  <div id=\"df-b5b14320-c51a-45b7-ba42-e1623dffc14a\">\n",
              "    <div class=\"colab-df-container\">\n",
              "      <div>\n",
              "<style scoped>\n",
              "    .dataframe tbody tr th:only-of-type {\n",
              "        vertical-align: middle;\n",
              "    }\n",
              "\n",
              "    .dataframe tbody tr th {\n",
              "        vertical-align: top;\n",
              "    }\n",
              "\n",
              "    .dataframe thead th {\n",
              "        text-align: right;\n",
              "    }\n",
              "</style>\n",
              "<table border=\"1\" class=\"dataframe\">\n",
              "  <thead>\n",
              "    <tr style=\"text-align: right;\">\n",
              "      <th></th>\n",
              "      <th>DOCUMENT_ID</th>\n",
              "      <th>SENTENCE_ID</th>\n",
              "      <th>SENTENCE</th>\n",
              "      <th>SENTENCE_START_POS</th>\n",
              "      <th>SENTENCE_END_POS</th>\n",
              "      <th>SCORE</th>\n",
              "    </tr>\n",
              "  </thead>\n",
              "  <tbody>\n",
              "    <tr>\n",
              "      <th>70650</th>\n",
              "      <td>689544034</td>\n",
              "      <td>3973218</td>\n",
              "      <td>Also many options to choose from to fit my bud...</td>\n",
              "      <td>28</td>\n",
              "      <td>78</td>\n",
              "      <td>10.0</td>\n",
              "    </tr>\n",
              "    <tr>\n",
              "      <th>70652</th>\n",
              "      <td>689568034</td>\n",
              "      <td>3972921</td>\n",
              "      <td>paying bills</td>\n",
              "      <td>0</td>\n",
              "      <td>12</td>\n",
              "      <td>10.0</td>\n",
              "    </tr>\n",
              "    <tr>\n",
              "      <th>70655</th>\n",
              "      <td>689550034</td>\n",
              "      <td>3973223</td>\n",
              "      <td>It was quick and easy process</td>\n",
              "      <td>0</td>\n",
              "      <td>29</td>\n",
              "      <td>10.0</td>\n",
              "    </tr>\n",
              "    <tr>\n",
              "      <th>70656</th>\n",
              "      <td>689559033</td>\n",
              "      <td>3973021</td>\n",
              "      <td>Best Egg helped me to consolidate my high inte...</td>\n",
              "      <td>40</td>\n",
              "      <td>136</td>\n",
              "      <td>10.0</td>\n",
              "    </tr>\n",
              "    <tr>\n",
              "      <th>70658</th>\n",
              "      <td>689559033</td>\n",
              "      <td>3973023</td>\n",
              "      <td>Having paid off those loans and now needing an...</td>\n",
              "      <td>188</td>\n",
              "      <td>300</td>\n",
              "      <td>10.0</td>\n",
              "    </tr>\n",
              "  </tbody>\n",
              "</table>\n",
              "</div>\n",
              "      <button class=\"colab-df-convert\" onclick=\"convertToInteractive('df-b5b14320-c51a-45b7-ba42-e1623dffc14a')\"\n",
              "              title=\"Convert this dataframe to an interactive table.\"\n",
              "              style=\"display:none;\">\n",
              "        \n",
              "  <svg xmlns=\"http://www.w3.org/2000/svg\" height=\"24px\"viewBox=\"0 0 24 24\"\n",
              "       width=\"24px\">\n",
              "    <path d=\"M0 0h24v24H0V0z\" fill=\"none\"/>\n",
              "    <path d=\"M18.56 5.44l.94 2.06.94-2.06 2.06-.94-2.06-.94-.94-2.06-.94 2.06-2.06.94zm-11 1L8.5 8.5l.94-2.06 2.06-.94-2.06-.94L8.5 2.5l-.94 2.06-2.06.94zm10 10l.94 2.06.94-2.06 2.06-.94-2.06-.94-.94-2.06-.94 2.06-2.06.94z\"/><path d=\"M17.41 7.96l-1.37-1.37c-.4-.4-.92-.59-1.43-.59-.52 0-1.04.2-1.43.59L10.3 9.45l-7.72 7.72c-.78.78-.78 2.05 0 2.83L4 21.41c.39.39.9.59 1.41.59.51 0 1.02-.2 1.41-.59l7.78-7.78 2.81-2.81c.8-.78.8-2.07 0-2.86zM5.41 20L4 18.59l7.72-7.72 1.47 1.35L5.41 20z\"/>\n",
              "  </svg>\n",
              "      </button>\n",
              "      \n",
              "  <style>\n",
              "    .colab-df-container {\n",
              "      display:flex;\n",
              "      flex-wrap:wrap;\n",
              "      gap: 12px;\n",
              "    }\n",
              "\n",
              "    .colab-df-convert {\n",
              "      background-color: #E8F0FE;\n",
              "      border: none;\n",
              "      border-radius: 50%;\n",
              "      cursor: pointer;\n",
              "      display: none;\n",
              "      fill: #1967D2;\n",
              "      height: 32px;\n",
              "      padding: 0 0 0 0;\n",
              "      width: 32px;\n",
              "    }\n",
              "\n",
              "    .colab-df-convert:hover {\n",
              "      background-color: #E2EBFA;\n",
              "      box-shadow: 0px 1px 2px rgba(60, 64, 67, 0.3), 0px 1px 3px 1px rgba(60, 64, 67, 0.15);\n",
              "      fill: #174EA6;\n",
              "    }\n",
              "\n",
              "    [theme=dark] .colab-df-convert {\n",
              "      background-color: #3B4455;\n",
              "      fill: #D2E3FC;\n",
              "    }\n",
              "\n",
              "    [theme=dark] .colab-df-convert:hover {\n",
              "      background-color: #434B5C;\n",
              "      box-shadow: 0px 1px 3px 1px rgba(0, 0, 0, 0.15);\n",
              "      filter: drop-shadow(0px 1px 2px rgba(0, 0, 0, 0.3));\n",
              "      fill: #FFFFFF;\n",
              "    }\n",
              "  </style>\n",
              "\n",
              "      <script>\n",
              "        const buttonEl =\n",
              "          document.querySelector('#df-b5b14320-c51a-45b7-ba42-e1623dffc14a button.colab-df-convert');\n",
              "        buttonEl.style.display =\n",
              "          google.colab.kernel.accessAllowed ? 'block' : 'none';\n",
              "\n",
              "        async function convertToInteractive(key) {\n",
              "          const element = document.querySelector('#df-b5b14320-c51a-45b7-ba42-e1623dffc14a');\n",
              "          const dataTable =\n",
              "            await google.colab.kernel.invokeFunction('convertToInteractive',\n",
              "                                                     [key], {});\n",
              "          if (!dataTable) return;\n",
              "\n",
              "          const docLinkHtml = 'Like what you see? Visit the ' +\n",
              "            '<a target=\"_blank\" href=https://colab.research.google.com/notebooks/data_table.ipynb>data table notebook</a>'\n",
              "            + ' to learn more about interactive tables.';\n",
              "          element.innerHTML = '';\n",
              "          dataTable['output_type'] = 'display_data';\n",
              "          await google.colab.output.renderOutput(dataTable, element);\n",
              "          const docLink = document.createElement('div');\n",
              "          docLink.innerHTML = docLinkHtml;\n",
              "          element.appendChild(docLink);\n",
              "        }\n",
              "      </script>\n",
              "    </div>\n",
              "  </div>\n",
              "  "
            ],
            "text/plain": [
              "       DOCUMENT_ID  SENTENCE_ID  ... SENTENCE_END_POS  SCORE\n",
              "70650    689544034      3973218  ...               78   10.0\n",
              "70652    689568034      3972921  ...               12   10.0\n",
              "70655    689550034      3973223  ...               29   10.0\n",
              "70656    689559033      3973021  ...              136   10.0\n",
              "70658    689559033      3973023  ...              300   10.0\n",
              "\n",
              "[5 rows x 6 columns]"
            ]
          },
          "metadata": {},
          "execution_count": 8
        }
      ]
    },
    {
      "cell_type": "code",
      "source": [
        "df_train.shape"
      ],
      "metadata": {
        "colab": {
          "base_uri": "https://localhost:8080/"
        },
        "id": "yzzvAcVgTg3r",
        "outputId": "5ed677ca-8622-4485-a8b5-77abcbc9789e"
      },
      "execution_count": 9,
      "outputs": [
        {
          "output_type": "execute_result",
          "data": {
            "text/plain": [
              "(56644, 6)"
            ]
          },
          "metadata": {},
          "execution_count": 9
        }
      ]
    },
    {
      "cell_type": "code",
      "source": [
        "df_validate.shape"
      ],
      "metadata": {
        "colab": {
          "base_uri": "https://localhost:8080/"
        },
        "id": "s9XWHGOITlW0",
        "outputId": "1ff99a46-9fe3-47b1-cedc-dccd3e70ce16"
      },
      "execution_count": 10,
      "outputs": [
        {
          "output_type": "execute_result",
          "data": {
            "text/plain": [
              "(14019, 6)"
            ]
          },
          "metadata": {},
          "execution_count": 10
        }
      ]
    },
    {
      "cell_type": "code",
      "source": [
        "df_train.info()"
      ],
      "metadata": {
        "colab": {
          "base_uri": "https://localhost:8080/"
        },
        "id": "OU3VVrPnT-FM",
        "outputId": "2f01eba3-38eb-4314-c61e-67d83e3c470a"
      },
      "execution_count": 11,
      "outputs": [
        {
          "output_type": "stream",
          "name": "stdout",
          "text": [
            "<class 'pandas.core.frame.DataFrame'>\n",
            "Int64Index: 56644 entries, 0 to 70662\n",
            "Data columns (total 6 columns):\n",
            " #   Column              Non-Null Count  Dtype  \n",
            "---  ------              --------------  -----  \n",
            " 0   DOCUMENT_ID         56644 non-null  int64  \n",
            " 1   SENTENCE_ID         56644 non-null  int64  \n",
            " 2   SENTENCE            56623 non-null  object \n",
            " 3   SENTENCE_START_POS  56644 non-null  int64  \n",
            " 4   SENTENCE_END_POS    56644 non-null  int64  \n",
            " 5   SCORE               56644 non-null  float64\n",
            "dtypes: float64(1), int64(4), object(1)\n",
            "memory usage: 3.0+ MB\n"
          ]
        }
      ]
    },
    {
      "cell_type": "code",
      "metadata": {
        "_uuid": "f84cbf8133b6e3769d9cb5c005cec743b132d5c9",
        "id": "qLAPh0ks4SkJ",
        "outputId": "b35d3e87-d280-4d45-e1bd-d25f560efa47",
        "colab": {
          "base_uri": "https://localhost:8080/",
          "height": 295
        }
      },
      "source": [
        "# Visualize SCORE distribution, total 11 scores, majority SCORE = 10\n",
        "df_train['SCORE'].value_counts().plot(kind = 'bar')"
      ],
      "execution_count": 12,
      "outputs": [
        {
          "output_type": "execute_result",
          "data": {
            "text/plain": [
              "<matplotlib.axes._subplots.AxesSubplot at 0x7fb6f4324c10>"
            ]
          },
          "metadata": {},
          "execution_count": 12
        },
        {
          "output_type": "display_data",
          "data": {
            "image/png": "[encoded data removed]",
            "text/plain": [
              "<Figure size 432x288 with 1 Axes>"
            ]
          },
          "metadata": {
            "needs_background": "light"
          }
        }
      ]
    },
    {
      "cell_type": "code",
      "source": [
        "df_validate['SCORE'].value_counts().plot(kind = 'bar')"
      ],
      "metadata": {
        "colab": {
          "base_uri": "https://localhost:8080/",
          "height": 295
        },
        "id": "vS5hd2MGVTE0",
        "outputId": "b5f7f80e-4fd3-4550-f8e6-29a14c6a83f6"
      },
      "execution_count": 13,
      "outputs": [
        {
          "output_type": "execute_result",
          "data": {
            "text/plain": [
              "<matplotlib.axes._subplots.AxesSubplot at 0x7fb6f4226a90>"
            ]
          },
          "metadata": {},
          "execution_count": 13
        },
        {
          "output_type": "display_data",
          "data": {
            "image/png": "[encoded data removed]",
            "text/plain": [
              "<Figure size 432x288 with 1 Axes>"
            ]
          },
          "metadata": {
            "needs_background": "light"
          }
        }
      ]
    },
    {
      "cell_type": "code",
      "source": [
        "df_train.isnull().sum()"
      ],
      "metadata": {
        "colab": {
          "base_uri": "https://localhost:8080/"
        },
        "id": "mg6_K0iEVivN",
        "outputId": "3670ccd7-a5ba-4e56-a2ba-0de66f378590"
      },
      "execution_count": 14,
      "outputs": [
        {
          "output_type": "execute_result",
          "data": {
            "text/plain": [
              "DOCUMENT_ID            0\n",
              "SENTENCE_ID            0\n",
              "SENTENCE              21\n",
              "SENTENCE_START_POS     0\n",
              "SENTENCE_END_POS       0\n",
              "SCORE                  0\n",
              "dtype: int64"
            ]
          },
          "metadata": {},
          "execution_count": 14
        }
      ]
    },
    {
      "cell_type": "code",
      "source": [
        "#Remove the missing data \n",
        "df_train = df_train.dropna()"
      ],
      "metadata": {
        "id": "ik6I8ZCUYe1v"
      },
      "execution_count": 15,
      "outputs": []
    },
    {
      "cell_type": "code",
      "source": [
        "df_train.isnull().sum()"
      ],
      "metadata": {
        "colab": {
          "base_uri": "https://localhost:8080/"
        },
        "id": "d0aSUIz5Y5gu",
        "outputId": "663e6f4a-1c42-4d23-8260-60dd9b02afb6"
      },
      "execution_count": 16,
      "outputs": [
        {
          "output_type": "execute_result",
          "data": {
            "text/plain": [
              "DOCUMENT_ID           0\n",
              "SENTENCE_ID           0\n",
              "SENTENCE              0\n",
              "SENTENCE_START_POS    0\n",
              "SENTENCE_END_POS      0\n",
              "SCORE                 0\n",
              "dtype: int64"
            ]
          },
          "metadata": {},
          "execution_count": 16
        }
      ]
    },
    {
      "cell_type": "code",
      "source": [
        "df_train.shape"
      ],
      "metadata": {
        "colab": {
          "base_uri": "https://localhost:8080/"
        },
        "id": "7BUDtlV9Z0Fa",
        "outputId": "ed53d2e1-bb92-4c14-8a36-fc344ee741c3"
      },
      "execution_count": 17,
      "outputs": [
        {
          "output_type": "execute_result",
          "data": {
            "text/plain": [
              "(56623, 6)"
            ]
          },
          "metadata": {},
          "execution_count": 17
        }
      ]
    },
    {
      "cell_type": "code",
      "source": [
        "df_validate.isnull().sum()"
      ],
      "metadata": {
        "id": "PVNYFHVqY3QE",
        "colab": {
          "base_uri": "https://localhost:8080/"
        },
        "outputId": "bb778a58-a3c9-4b68-ad7f-a487a7618e01"
      },
      "execution_count": 18,
      "outputs": [
        {
          "output_type": "execute_result",
          "data": {
            "text/plain": [
              "DOCUMENT_ID           0\n",
              "SENTENCE_ID           0\n",
              "SENTENCE              4\n",
              "SENTENCE_START_POS    0\n",
              "SENTENCE_END_POS      0\n",
              "SCORE                 1\n",
              "dtype: int64"
            ]
          },
          "metadata": {},
          "execution_count": 18
        }
      ]
    },
    {
      "cell_type": "code",
      "source": [
        "df_validate = df_validate.dropna()"
      ],
      "metadata": {
        "id": "yr7kg246ZRVx"
      },
      "execution_count": 19,
      "outputs": []
    },
    {
      "cell_type": "code",
      "source": [
        "df_validate.isnull().sum()"
      ],
      "metadata": {
        "colab": {
          "base_uri": "https://localhost:8080/"
        },
        "id": "QJuYi7WGZMFl",
        "outputId": "131fe89f-6745-4e48-c873-acb02195a933"
      },
      "execution_count": 20,
      "outputs": [
        {
          "output_type": "execute_result",
          "data": {
            "text/plain": [
              "DOCUMENT_ID           0\n",
              "SENTENCE_ID           0\n",
              "SENTENCE              0\n",
              "SENTENCE_START_POS    0\n",
              "SENTENCE_END_POS      0\n",
              "SCORE                 0\n",
              "dtype: int64"
            ]
          },
          "metadata": {},
          "execution_count": 20
        }
      ]
    },
    {
      "cell_type": "code",
      "source": [
        "df_validate.shape"
      ],
      "metadata": {
        "colab": {
          "base_uri": "https://localhost:8080/"
        },
        "id": "5d9kpERQZ-uk",
        "outputId": "5b636fe1-838c-41ed-897c-eaee0339cc2c"
      },
      "execution_count": null,
      "outputs": [
        {
          "output_type": "execute_result",
          "data": {
            "text/plain": [
              "(14014, 6)"
            ]
          },
          "metadata": {},
          "execution_count": 26
        }
      ]
    },
    {
      "cell_type": "markdown",
      "source": [
        "## Preprocess Sentences"
      ],
      "metadata": {
        "id": "t2nJo5klt1QO"
      }
    },
    {
      "cell_type": "code",
      "metadata": {
        "id": "nDqyyZ-7KiEA",
        "colab": {
          "base_uri": "https://localhost:8080/"
        },
        "outputId": "84c379cd-3c3e-452a-ff3f-5a2d2b0043ab"
      },
      "source": [
        "import nltk\n",
        "nltk.download('stopwords')\n",
        "nltk.download('wordnet')"
      ],
      "execution_count": 21,
      "outputs": [
        {
          "output_type": "stream",
          "name": "stdout",
          "text": [
            "[nltk_data] Downloading package stopwords to /root/nltk_data...\n",
            "[nltk_data]   Unzipping corpora/stopwords.zip.\n",
            "[nltk_data] Downloading package wordnet to /root/nltk_data...\n",
            "[nltk_data]   Unzipping corpora/wordnet.zip.\n"
          ]
        },
        {
          "output_type": "execute_result",
          "data": {
            "text/plain": [
              "True"
            ]
          },
          "metadata": {},
          "execution_count": 21
        }
      ]
    },
    {
      "cell_type": "code",
      "metadata": {
        "id": "WIOokTGkKiEC",
        "colab": {
          "base_uri": "https://localhost:8080/",
          "height": 36
        },
        "outputId": "4371df6b-ad8b-4bc3-f2ae-57fcd61c8d59"
      },
      "source": [
        "# Define preprocess function, remove stop words and punctuations etc.\n",
        "from nltk.stem.wordnet import WordNetLemmatizer\n",
        "from nltk.corpus import stopwords\n",
        "import string\n",
        "stop = set(stopwords.words('english'))\n",
        "punc = set(string.punctuation)\n",
        "lemma = WordNetLemmatizer()\n",
        "def clean_text(text):\n",
        "    text = text.lower()\n",
        "    wordList = text.split()\n",
        "    wordList = [\"\".join(x for x in word if (x==\"'\")|(x not in punc)) for word in wordList]\n",
        "    wordList = [word for word in wordList if word not in stop]\n",
        "    wordList = [lemma.lemmatize(word) for word in wordList]\n",
        "    return \" \".join(wordList)\n",
        "clean_text(\"I Thank you!\")"
      ],
      "execution_count": 22,
      "outputs": [
        {
          "output_type": "execute_result",
          "data": {
            "application/vnd.google.colaboratory.intrinsic+json": {
              "type": "string"
            },
            "text/plain": [
              "'thank'"
            ]
          },
          "metadata": {},
          "execution_count": 22
        }
      ]
    },
    {
      "cell_type": "code",
      "metadata": {
        "id": "c0a1jRZMKiEF"
      },
      "source": [
        "# Clean train dataset\n",
        "df_train[\"SENTENCE\"] = df_train[\"SENTENCE\"].astype(\"str\")\n",
        "df_train[\"clean_text\"] = df_train[\"SENTENCE\"].apply(clean_text)"
      ],
      "execution_count": 23,
      "outputs": []
    },
    {
      "cell_type": "code",
      "metadata": {
        "id": "g4jIR9bM26aF"
      },
      "source": [
        "# Clean validate dataset\n",
        "df_validate[\"SENTENCE\"] = df_validate[\"SENTENCE\"].astype(\"str\")\n",
        "df_validate[\"clean_text\"] = df_validate[\"SENTENCE\"].apply(clean_text)"
      ],
      "execution_count": 24,
      "outputs": []
    },
    {
      "cell_type": "code",
      "source": [
        "df_train.head()"
      ],
      "metadata": {
        "colab": {
          "base_uri": "https://localhost:8080/",
          "height": 250
        },
        "id": "oItULbW03Qon",
        "outputId": "dc876df3-bad0-4705-ff99-4e908ed5d564"
      },
      "execution_count": 25,
      "outputs": [
        {
          "output_type": "execute_result",
          "data": {
            "text/html": [
              "\n",
              "  <div id=\"df-88eb52e4-6d4d-4821-8168-b6af4529f459\">\n",
              "    <div class=\"colab-df-container\">\n",
              "      <div>\n",
              "<style scoped>\n",
              "    .dataframe tbody tr th:only-of-type {\n",
              "        vertical-align: middle;\n",
              "    }\n",
              "\n",
              "    .dataframe tbody tr th {\n",
              "        vertical-align: top;\n",
              "    }\n",
              "\n",
              "    .dataframe thead th {\n",
              "        text-align: right;\n",
              "    }\n",
              "</style>\n",
              "<table border=\"1\" class=\"dataframe\">\n",
              "  <thead>\n",
              "    <tr style=\"text-align: right;\">\n",
              "      <th></th>\n",
              "      <th>DOCUMENT_ID</th>\n",
              "      <th>SENTENCE_ID</th>\n",
              "      <th>SENTENCE</th>\n",
              "      <th>SENTENCE_START_POS</th>\n",
              "      <th>SENTENCE_END_POS</th>\n",
              "      <th>SCORE</th>\n",
              "      <th>clean_text</th>\n",
              "    </tr>\n",
              "  </thead>\n",
              "  <tbody>\n",
              "    <tr>\n",
              "      <th>0</th>\n",
              "      <td>583306034</td>\n",
              "      <td>1888104</td>\n",
              "      <td>The whole process went smooth and I am thankfu...</td>\n",
              "      <td>109</td>\n",
              "      <td>165</td>\n",
              "      <td>10.0</td>\n",
              "      <td>whole process went smooth thankful</td>\n",
              "    </tr>\n",
              "    <tr>\n",
              "      <th>1</th>\n",
              "      <td>583306034</td>\n",
              "      <td>1888102</td>\n",
              "      <td>It was quick and easy to apply and got the app...</td>\n",
              "      <td>0</td>\n",
              "      <td>60</td>\n",
              "      <td>10.0</td>\n",
              "      <td>quick easy apply got approval quickly</td>\n",
              "    </tr>\n",
              "    <tr>\n",
              "      <th>2</th>\n",
              "      <td>584193040</td>\n",
              "      <td>1909902</td>\n",
              "      <td>service</td>\n",
              "      <td>0</td>\n",
              "      <td>7</td>\n",
              "      <td>10.0</td>\n",
              "      <td>service</td>\n",
              "    </tr>\n",
              "    <tr>\n",
              "      <th>3</th>\n",
              "      <td>584203035</td>\n",
              "      <td>1910310</td>\n",
              "      <td>Thanks!</td>\n",
              "      <td>198</td>\n",
              "      <td>205</td>\n",
              "      <td>10.0</td>\n",
              "      <td>thanks</td>\n",
              "    </tr>\n",
              "    <tr>\n",
              "      <th>4</th>\n",
              "      <td>584200037</td>\n",
              "      <td>1910006</td>\n",
              "      <td>Thank you!</td>\n",
              "      <td>58</td>\n",
              "      <td>68</td>\n",
              "      <td>10.0</td>\n",
              "      <td>thank</td>\n",
              "    </tr>\n",
              "  </tbody>\n",
              "</table>\n",
              "</div>\n",
              "      <button class=\"colab-df-convert\" onclick=\"convertToInteractive('df-88eb52e4-6d4d-4821-8168-b6af4529f459')\"\n",
              "              title=\"Convert this dataframe to an interactive table.\"\n",
              "              style=\"display:none;\">\n",
              "        \n",
              "  <svg xmlns=\"http://www.w3.org/2000/svg\" height=\"24px\"viewBox=\"0 0 24 24\"\n",
              "       width=\"24px\">\n",
              "    <path d=\"M0 0h24v24H0V0z\" fill=\"none\"/>\n",
              "    <path d=\"M18.56 5.44l.94 2.06.94-2.06 2.06-.94-2.06-.94-.94-2.06-.94 2.06-2.06.94zm-11 1L8.5 8.5l.94-2.06 2.06-.94-2.06-.94L8.5 2.5l-.94 2.06-2.06.94zm10 10l.94 2.06.94-2.06 2.06-.94-2.06-.94-.94-2.06-.94 2.06-2.06.94z\"/><path d=\"M17.41 7.96l-1.37-1.37c-.4-.4-.92-.59-1.43-.59-.52 0-1.04.2-1.43.59L10.3 9.45l-7.72 7.72c-.78.78-.78 2.05 0 2.83L4 21.41c.39.39.9.59 1.41.59.51 0 1.02-.2 1.41-.59l7.78-7.78 2.81-2.81c.8-.78.8-2.07 0-2.86zM5.41 20L4 18.59l7.72-7.72 1.47 1.35L5.41 20z\"/>\n",
              "  </svg>\n",
              "      </button>\n",
              "      \n",
              "  <style>\n",
              "    .colab-df-container {\n",
              "      display:flex;\n",
              "      flex-wrap:wrap;\n",
              "      gap: 12px;\n",
              "    }\n",
              "\n",
              "    .colab-df-convert {\n",
              "      background-color: #E8F0FE;\n",
              "      border: none;\n",
              "      border-radius: 50%;\n",
              "      cursor: pointer;\n",
              "      display: none;\n",
              "      fill: #1967D2;\n",
              "      height: 32px;\n",
              "      padding: 0 0 0 0;\n",
              "      width: 32px;\n",
              "    }\n",
              "\n",
              "    .colab-df-convert:hover {\n",
              "      background-color: #E2EBFA;\n",
              "      box-shadow: 0px 1px 2px rgba(60, 64, 67, 0.3), 0px 1px 3px 1px rgba(60, 64, 67, 0.15);\n",
              "      fill: #174EA6;\n",
              "    }\n",
              "\n",
              "    [theme=dark] .colab-df-convert {\n",
              "      background-color: #3B4455;\n",
              "      fill: #D2E3FC;\n",
              "    }\n",
              "\n",
              "    [theme=dark] .colab-df-convert:hover {\n",
              "      background-color: #434B5C;\n",
              "      box-shadow: 0px 1px 3px 1px rgba(0, 0, 0, 0.15);\n",
              "      filter: drop-shadow(0px 1px 2px rgba(0, 0, 0, 0.3));\n",
              "      fill: #FFFFFF;\n",
              "    }\n",
              "  </style>\n",
              "\n",
              "      <script>\n",
              "        const buttonEl =\n",
              "          document.querySelector('#df-88eb52e4-6d4d-4821-8168-b6af4529f459 button.colab-df-convert');\n",
              "        buttonEl.style.display =\n",
              "          google.colab.kernel.accessAllowed ? 'block' : 'none';\n",
              "\n",
              "        async function convertToInteractive(key) {\n",
              "          const element = document.querySelector('#df-88eb52e4-6d4d-4821-8168-b6af4529f459');\n",
              "          const dataTable =\n",
              "            await google.colab.kernel.invokeFunction('convertToInteractive',\n",
              "                                                     [key], {});\n",
              "          if (!dataTable) return;\n",
              "\n",
              "          const docLinkHtml = 'Like what you see? Visit the ' +\n",
              "            '<a target=\"_blank\" href=https://colab.research.google.com/notebooks/data_table.ipynb>data table notebook</a>'\n",
              "            + ' to learn more about interactive tables.';\n",
              "          element.innerHTML = '';\n",
              "          dataTable['output_type'] = 'display_data';\n",
              "          await google.colab.output.renderOutput(dataTable, element);\n",
              "          const docLink = document.createElement('div');\n",
              "          docLink.innerHTML = docLinkHtml;\n",
              "          element.appendChild(docLink);\n",
              "        }\n",
              "      </script>\n",
              "    </div>\n",
              "  </div>\n",
              "  "
            ],
            "text/plain": [
              "   DOCUMENT_ID  SENTENCE_ID  ... SCORE                             clean_text\n",
              "0    583306034      1888104  ...  10.0     whole process went smooth thankful\n",
              "1    583306034      1888102  ...  10.0  quick easy apply got approval quickly\n",
              "2    584193040      1909902  ...  10.0                                service\n",
              "3    584203035      1910310  ...  10.0                                 thanks\n",
              "4    584200037      1910006  ...  10.0                                  thank\n",
              "\n",
              "[5 rows x 7 columns]"
            ]
          },
          "metadata": {},
          "execution_count": 25
        }
      ]
    },
    {
      "cell_type": "code",
      "source": [
        "#save cleaned data to Google drive\n",
        "#df_train.to_csv(path_or_buf='/content/drive/My Drive/Data_Sets/NLP_train.csv')\n",
        "#df_validate.to_csv(path_or_buf='/content/drive/My Drive/Data_Sets/NLP_validate.csv')"
      ],
      "metadata": {
        "id": "UEWoojxUlfbY"
      },
      "execution_count": 37,
      "outputs": []
    },
    {
      "cell_type": "code",
      "source": [
        "#upload the cleaned data\n",
        "#df_train = pd.read_csv('/content/drive/My Drive/Data_Sets/NLP_train.csv')\n",
        "#df_validation = pd.read_csv('/content/drive/My Drive/Data_Sets/NLP_validate.csv')"
      ],
      "metadata": {
        "id": "rfv4QmILCLrD"
      },
      "execution_count": 4,
      "outputs": []
    },
    {
      "cell_type": "code",
      "source": [
        "#df_train['cat_score']=df_train.SCORE.astype('category').cat.codes"
      ],
      "metadata": {
        "id": "y4Q6McP-deFt"
      },
      "execution_count": 10,
      "outputs": []
    },
    {
      "cell_type": "code",
      "source": [
        "df_train.head()"
      ],
      "metadata": {
        "colab": {
          "base_uri": "https://localhost:8080/",
          "height": 250
        },
        "id": "POZyPK66eX7V",
        "outputId": "42b64670-2c9b-4496-853a-485b9b6d1e02"
      },
      "execution_count": 26,
      "outputs": [
        {
          "output_type": "execute_result",
          "data": {
            "text/html": [
              "\n",
              "  <div id=\"df-e45fe402-40e7-41fe-b3c8-954785f86a92\">\n",
              "    <div class=\"colab-df-container\">\n",
              "      <div>\n",
              "<style scoped>\n",
              "    .dataframe tbody tr th:only-of-type {\n",
              "        vertical-align: middle;\n",
              "    }\n",
              "\n",
              "    .dataframe tbody tr th {\n",
              "        vertical-align: top;\n",
              "    }\n",
              "\n",
              "    .dataframe thead th {\n",
              "        text-align: right;\n",
              "    }\n",
              "</style>\n",
              "<table border=\"1\" class=\"dataframe\">\n",
              "  <thead>\n",
              "    <tr style=\"text-align: right;\">\n",
              "      <th></th>\n",
              "      <th>DOCUMENT_ID</th>\n",
              "      <th>SENTENCE_ID</th>\n",
              "      <th>SENTENCE</th>\n",
              "      <th>SENTENCE_START_POS</th>\n",
              "      <th>SENTENCE_END_POS</th>\n",
              "      <th>SCORE</th>\n",
              "      <th>clean_text</th>\n",
              "    </tr>\n",
              "  </thead>\n",
              "  <tbody>\n",
              "    <tr>\n",
              "      <th>0</th>\n",
              "      <td>583306034</td>\n",
              "      <td>1888104</td>\n",
              "      <td>The whole process went smooth and I am thankfu...</td>\n",
              "      <td>109</td>\n",
              "      <td>165</td>\n",
              "      <td>10.0</td>\n",
              "      <td>whole process went smooth thankful</td>\n",
              "    </tr>\n",
              "    <tr>\n",
              "      <th>1</th>\n",
              "      <td>583306034</td>\n",
              "      <td>1888102</td>\n",
              "      <td>It was quick and easy to apply and got the app...</td>\n",
              "      <td>0</td>\n",
              "      <td>60</td>\n",
              "      <td>10.0</td>\n",
              "      <td>quick easy apply got approval quickly</td>\n",
              "    </tr>\n",
              "    <tr>\n",
              "      <th>2</th>\n",
              "      <td>584193040</td>\n",
              "      <td>1909902</td>\n",
              "      <td>service</td>\n",
              "      <td>0</td>\n",
              "      <td>7</td>\n",
              "      <td>10.0</td>\n",
              "      <td>service</td>\n",
              "    </tr>\n",
              "    <tr>\n",
              "      <th>3</th>\n",
              "      <td>584203035</td>\n",
              "      <td>1910310</td>\n",
              "      <td>Thanks!</td>\n",
              "      <td>198</td>\n",
              "      <td>205</td>\n",
              "      <td>10.0</td>\n",
              "      <td>thanks</td>\n",
              "    </tr>\n",
              "    <tr>\n",
              "      <th>4</th>\n",
              "      <td>584200037</td>\n",
              "      <td>1910006</td>\n",
              "      <td>Thank you!</td>\n",
              "      <td>58</td>\n",
              "      <td>68</td>\n",
              "      <td>10.0</td>\n",
              "      <td>thank</td>\n",
              "    </tr>\n",
              "  </tbody>\n",
              "</table>\n",
              "</div>\n",
              "      <button class=\"colab-df-convert\" onclick=\"convertToInteractive('df-e45fe402-40e7-41fe-b3c8-954785f86a92')\"\n",
              "              title=\"Convert this dataframe to an interactive table.\"\n",
              "              style=\"display:none;\">\n",
              "        \n",
              "  <svg xmlns=\"http://www.w3.org/2000/svg\" height=\"24px\"viewBox=\"0 0 24 24\"\n",
              "       width=\"24px\">\n",
              "    <path d=\"M0 0h24v24H0V0z\" fill=\"none\"/>\n",
              "    <path d=\"M18.56 5.44l.94 2.06.94-2.06 2.06-.94-2.06-.94-.94-2.06-.94 2.06-2.06.94zm-11 1L8.5 8.5l.94-2.06 2.06-.94-2.06-.94L8.5 2.5l-.94 2.06-2.06.94zm10 10l.94 2.06.94-2.06 2.06-.94-2.06-.94-.94-2.06-.94 2.06-2.06.94z\"/><path d=\"M17.41 7.96l-1.37-1.37c-.4-.4-.92-.59-1.43-.59-.52 0-1.04.2-1.43.59L10.3 9.45l-7.72 7.72c-.78.78-.78 2.05 0 2.83L4 21.41c.39.39.9.59 1.41.59.51 0 1.02-.2 1.41-.59l7.78-7.78 2.81-2.81c.8-.78.8-2.07 0-2.86zM5.41 20L4 18.59l7.72-7.72 1.47 1.35L5.41 20z\"/>\n",
              "  </svg>\n",
              "      </button>\n",
              "      \n",
              "  <style>\n",
              "    .colab-df-container {\n",
              "      display:flex;\n",
              "      flex-wrap:wrap;\n",
              "      gap: 12px;\n",
              "    }\n",
              "\n",
              "    .colab-df-convert {\n",
              "      background-color: #E8F0FE;\n",
              "      border: none;\n",
              "      border-radius: 50%;\n",
              "      cursor: pointer;\n",
              "      display: none;\n",
              "      fill: #1967D2;\n",
              "      height: 32px;\n",
              "      padding: 0 0 0 0;\n",
              "      width: 32px;\n",
              "    }\n",
              "\n",
              "    .colab-df-convert:hover {\n",
              "      background-color: #E2EBFA;\n",
              "      box-shadow: 0px 1px 2px rgba(60, 64, 67, 0.3), 0px 1px 3px 1px rgba(60, 64, 67, 0.15);\n",
              "      fill: #174EA6;\n",
              "    }\n",
              "\n",
              "    [theme=dark] .colab-df-convert {\n",
              "      background-color: #3B4455;\n",
              "      fill: #D2E3FC;\n",
              "    }\n",
              "\n",
              "    [theme=dark] .colab-df-convert:hover {\n",
              "      background-color: #434B5C;\n",
              "      box-shadow: 0px 1px 3px 1px rgba(0, 0, 0, 0.15);\n",
              "      filter: drop-shadow(0px 1px 2px rgba(0, 0, 0, 0.3));\n",
              "      fill: #FFFFFF;\n",
              "    }\n",
              "  </style>\n",
              "\n",
              "      <script>\n",
              "        const buttonEl =\n",
              "          document.querySelector('#df-e45fe402-40e7-41fe-b3c8-954785f86a92 button.colab-df-convert');\n",
              "        buttonEl.style.display =\n",
              "          google.colab.kernel.accessAllowed ? 'block' : 'none';\n",
              "\n",
              "        async function convertToInteractive(key) {\n",
              "          const element = document.querySelector('#df-e45fe402-40e7-41fe-b3c8-954785f86a92');\n",
              "          const dataTable =\n",
              "            await google.colab.kernel.invokeFunction('convertToInteractive',\n",
              "                                                     [key], {});\n",
              "          if (!dataTable) return;\n",
              "\n",
              "          const docLinkHtml = 'Like what you see? Visit the ' +\n",
              "            '<a target=\"_blank\" href=https://colab.research.google.com/notebooks/data_table.ipynb>data table notebook</a>'\n",
              "            + ' to learn more about interactive tables.';\n",
              "          element.innerHTML = '';\n",
              "          dataTable['output_type'] = 'display_data';\n",
              "          await google.colab.output.renderOutput(dataTable, element);\n",
              "          const docLink = document.createElement('div');\n",
              "          docLink.innerHTML = docLinkHtml;\n",
              "          element.appendChild(docLink);\n",
              "        }\n",
              "      </script>\n",
              "    </div>\n",
              "  </div>\n",
              "  "
            ],
            "text/plain": [
              "   DOCUMENT_ID  SENTENCE_ID  ... SCORE                             clean_text\n",
              "0    583306034      1888104  ...  10.0     whole process went smooth thankful\n",
              "1    583306034      1888102  ...  10.0  quick easy apply got approval quickly\n",
              "2    584193040      1909902  ...  10.0                                service\n",
              "3    584203035      1910310  ...  10.0                                 thanks\n",
              "4    584200037      1910006  ...  10.0                                  thank\n",
              "\n",
              "[5 rows x 7 columns]"
            ]
          },
          "metadata": {},
          "execution_count": 26
        }
      ]
    },
    {
      "cell_type": "code",
      "source": [
        "df_train.info()"
      ],
      "metadata": {
        "colab": {
          "base_uri": "https://localhost:8080/"
        },
        "id": "OWvSQ42RkGW0",
        "outputId": "76f33c4f-a2fc-41da-dcbd-d48088f92c88"
      },
      "execution_count": 27,
      "outputs": [
        {
          "output_type": "stream",
          "name": "stdout",
          "text": [
            "<class 'pandas.core.frame.DataFrame'>\n",
            "Int64Index: 56623 entries, 0 to 70662\n",
            "Data columns (total 7 columns):\n",
            " #   Column              Non-Null Count  Dtype  \n",
            "---  ------              --------------  -----  \n",
            " 0   DOCUMENT_ID         56623 non-null  int64  \n",
            " 1   SENTENCE_ID         56623 non-null  int64  \n",
            " 2   SENTENCE            56623 non-null  object \n",
            " 3   SENTENCE_START_POS  56623 non-null  int64  \n",
            " 4   SENTENCE_END_POS    56623 non-null  int64  \n",
            " 5   SCORE               56623 non-null  float64\n",
            " 6   clean_text          56623 non-null  object \n",
            "dtypes: float64(1), int64(4), object(2)\n",
            "memory usage: 3.5+ MB\n"
          ]
        }
      ]
    },
    {
      "cell_type": "markdown",
      "source": [
        "## Import dependences"
      ],
      "metadata": {
        "id": "gIdH-n1Pv7fI"
      }
    },
    {
      "cell_type": "code",
      "source": [
        "from sklearn.model_selection import learning_curve\n",
        "from sklearn.model_selection import train_test_split\n",
        "from sklearn.model_selection import StratifiedKFold\n",
        "\n",
        "import tensorflow as tf\n",
        "from keras import backend as K"
      ],
      "metadata": {
        "id": "uqXBmTfLkgZ8"
      },
      "execution_count": 73,
      "outputs": []
    },
    {
      "cell_type": "code",
      "metadata": {
        "scrolled": true,
        "id": "qSWFTUxh__6p"
      },
      "source": [
        "from keras.preprocessing import text, sequence\n",
        "from keras import optimizers\n",
        "from keras import layers\n",
        "from keras.models import Sequential\n",
        "from keras.layers import Dense, Dropout, Embedding, SpatialDropout1D, Conv1D, GRU, LSTM, MaxPooling1D, GlobalMaxPool1D\n",
        "from keras.layers.wrappers import Bidirectional\n",
        "from tensorflow.keras.optimizers import Adam\n",
        "import matplotlib.pyplot as plt\n",
        "import numpy as np\n",
        "import gc\n",
        "\n"
      ],
      "execution_count": 74,
      "outputs": []
    },
    {
      "cell_type": "markdown",
      "source": [
        "##Split xtrain, ytrain from df_train; xtest, ytest from df_validate;\n",
        "## one hot encoder 'SCORE'"
      ],
      "metadata": {
        "id": "o-sBOiebwVVa"
      }
    },
    {
      "cell_type": "code",
      "metadata": {
        "id": "PLO-SHwpdBlD"
      },
      "source": [
        "xtrain = df_train['clean_text']\n",
        "ytrain = df_train['SCORE']\n",
        "xtest = df_validate['clean_text']\n",
        "ytest = df_validate['SCORE']"
      ],
      "execution_count": 77,
      "outputs": []
    },
    {
      "cell_type": "code",
      "metadata": {
        "id": "gHUxGtRy__-I"
      },
      "source": [
        "from sklearn.preprocessing import OneHotEncoder\n",
        "ohe = OneHotEncoder(categories='auto',sparse=False)\n",
        "ohe.fit(ytrain.values.reshape(-1,1))\n",
        "max_len=200\n",
        "max_num_words=20000\n",
        "tokenizer = text.Tokenizer(num_words=max_num_words)\n",
        "tokenizer.fit_on_texts(xtrain)\n",
        "\n",
        "xtrain = tokenizer.texts_to_sequences(xtrain)\n",
        "xtrain = sequence.pad_sequences(xtrain, maxlen = max_len).astype(np.int32)\n",
        "ytrain = ohe.transform(ytrain.values.reshape(-1,1)).astype(np.uint8)\n",
        "\n",
        "xtest = tokenizer.texts_to_sequences(xtest)\n",
        "xtest = sequence.pad_sequences(xtest, maxlen = max_len).astype(np.int32)\n",
        "ytest = ohe.transform(ytest.values.reshape(-1,1)).astype(np.uint8)\n",
        "\n",
        "#xtrain, xtest, ytrain, ytest = train_test_split(X, y, test_size=0.2, random_state=10)\n",
        "#del X, y\n",
        "#gc.collect()"
      ],
      "execution_count": 78,
      "outputs": []
    },
    {
      "cell_type": "markdown",
      "source": [
        "## Build word embedding matrix from glove 100d"
      ],
      "metadata": {
        "id": "f3gIsUUGwtbG"
      }
    },
    {
      "cell_type": "code",
      "metadata": {
        "id": "QtMMTrVA__-L"
      },
      "source": [
        "f= open('/content/drive/My Drive/Data_Sets/glove.6B.100d.txt', 'r', encoding='utf-8')\n",
        "embeddings_index={}\n",
        "for line in f:\n",
        "    values = line.split()\n",
        "    word = values[0]\n",
        "    try:\n",
        "        coefs = np.asarray(values[1:], dtype='float32')\n",
        "        embeddings_index[word] = coefs\n",
        "    except ValueError:\n",
        "        pass\n",
        "f.close()\n",
        "\n",
        "word_index = tokenizer.word_index\n",
        "embedding_matrix = np.zeros((len(word_index) + 1, 100))\n",
        "for word, i in word_index.items():\n",
        "    embedding_vector = embeddings_index.get(word)\n",
        "    if embedding_vector is not None:\n",
        "        embedding_matrix[i] = embedding_vector"
      ],
      "execution_count": 79,
      "outputs": []
    },
    {
      "cell_type": "markdown",
      "source": [
        "## Build Neural Network model using Bidtrectional GRU\n",
        "## Train the model"
      ],
      "metadata": {
        "id": "KiwOPOWrzMyq"
      }
    },
    {
      "cell_type": "code",
      "metadata": {
        "scrolled": false,
        "id": "d2ObocGJ__-N",
        "colab": {
          "base_uri": "https://localhost:8080/"
        },
        "outputId": "7f211d07-c042-4e0c-c80e-d5e497d7b574"
      },
      "source": [
        "nlabels=11\n",
        "\n",
        "model = Sequential()\n",
        "model.add(Embedding(len(word_index)+1,\n",
        "                           100,\n",
        "                           weights=[embedding_matrix],\n",
        "                           input_length=max_len,\n",
        "                           trainable=False))\n",
        "model.add(SpatialDropout1D(0.3))\n",
        "model.add(Bidirectional(GRU(128, dropout=0.3, recurrent_dropout=0.3, return_sequences=True)))\n",
        "model.add(GRU(128, dropout=0.3, recurrent_dropout=0.3))\n",
        "\n",
        "model.add(layers.Dense(512, activation='relu'))\n",
        "model.add(layers.Dropout(0.8))\n",
        "\n",
        "model.add(layers.Dense(nlabels, activation='softmax')) #'sigmoid'\n",
        "model.compile(loss='categorical_crossentropy',\n",
        "                optimizer='adam', \n",
        "                metrics=['acc'])\n",
        "model.summary()\n",
        "\n",
        "batch=512\n",
        "epoch=5\n",
        "\n",
        "history = model.fit(xtrain, ytrain,\n",
        "                    validation_split=0.2,\n",
        "                    epochs=epoch,\n",
        "                    batch_size=batch,\n",
        "                   verbose=1)\n",
        "score, acc = model.evaluate(xtest, ytest,\n",
        "                            batch_size=batch)\n",
        "model.save('gru_model.h5')\n",
        "\n"
      ],
      "execution_count": 80,
      "outputs": [
        {
          "output_type": "stream",
          "name": "stdout",
          "text": [
            "Model: \"sequential_9\"\n",
            "_________________________________________________________________\n",
            " Layer (type)                Output Shape              Param #   \n",
            "=================================================================\n",
            " embedding_9 (Embedding)     (None, 200, 100)          737400    \n",
            "                                                                 \n",
            " spatial_dropout1d_8 (Spatia  (None, 200, 100)         0         \n",
            " lDropout1D)                                                     \n",
            "                                                                 \n",
            " bidirectional_8 (Bidirectio  (None, 200, 256)         176640    \n",
            " nal)                                                            \n",
            "                                                                 \n",
            " gru_17 (GRU)                (None, 128)               148224    \n",
            "                                                                 \n",
            " dense_16 (Dense)            (None, 512)               66048     \n",
            "                                                                 \n",
            " dropout_8 (Dropout)         (None, 512)               0         \n",
            "                                                                 \n",
            " dense_17 (Dense)            (None, 11)                5643      \n",
            "                                                                 \n",
            "=================================================================\n",
            "Total params: 1,133,955\n",
            "Trainable params: 396,555\n",
            "Non-trainable params: 737,400\n",
            "_________________________________________________________________\n",
            "Epoch 1/5\n",
            "89/89 [==============================] - 942s 10s/step - loss: 0.9964 - acc: 0.7538 - val_loss: 0.7860 - val_acc: 0.7888\n",
            "Epoch 2/5\n",
            "89/89 [==============================] - 932s 10s/step - loss: 0.8547 - acc: 0.7703 - val_loss: 0.7669 - val_acc: 0.7888\n",
            "Epoch 3/5\n",
            "89/89 [==============================] - 928s 10s/step - loss: 0.8453 - acc: 0.7707 - val_loss: 0.7588 - val_acc: 0.7895\n",
            "Epoch 4/5\n",
            "89/89 [==============================] - 916s 10s/step - loss: 0.8362 - acc: 0.7708 - val_loss: 0.7579 - val_acc: 0.7896\n",
            "Epoch 5/5\n",
            "89/89 [==============================] - 900s 10s/step - loss: 0.8305 - acc: 0.7714 - val_loss: 0.7543 - val_acc: 0.7900\n",
            "28/28 [==============================] - 49s 2s/step - loss: 0.7862 - acc: 0.7765\n"
          ]
        }
      ]
    },
    {
      "cell_type": "markdown",
      "source": [
        "## Plot loss and Accuracy vs. Epoch"
      ],
      "metadata": {
        "id": "ptySboR51PSa"
      }
    },
    {
      "cell_type": "code",
      "metadata": {
        "colab": {
          "base_uri": "https://localhost:8080/",
          "height": 1000
        },
        "outputId": "a9d6005b-ee3e-48c3-cd28-f65d48b3f5f0",
        "id": "TYKDPglyR-IC"
      },
      "source": [
        "plt.figure(figsize = (16, 8))\n",
        "plt.plot(history.history['acc'], color='red')\n",
        "plt.plot(history.history['val_acc'], color='blue')\n",
        "plt.xticks(np.arange(0, epoch + 1))\n",
        "plt.yticks(np.arange(0.3, 1, 0.1))\n",
        "plt.rcParams['figure.figsize'] = (10, 6)\n",
        "plt.xlabel(\"Epochs\")\n",
        "plt.ylabel(\"Accuracy\")\n",
        "plt.title(\"Training vs Validation Accuracy\")\n",
        "plt.legend(['train','validation'])\n",
        "plt.show()\n",
        "\n",
        "plt.figure(figsize = (16, 8))\n",
        "plt.plot(history.history['loss'], color='red')\n",
        "plt.plot(history.history['val_loss'], color='blue')\n",
        "plt.xticks(np.arange(0, epoch + 1))\n",
        "plt.rcParams['figure.figsize'] = (5, 3)\n",
        "plt.xlabel(\"Epochs\")\n",
        "plt.ylabel(\"Loss\")\n",
        "plt.title(\"Training vs Validation Loss\")\n",
        "plt.legend(['train','validation'])\n",
        "plt.show()"
      ],
      "execution_count": 81,
      "outputs": [
        {
          "output_type": "display_data",
          "data": {
            "image/png": "[encoded data removed]",
            "text/plain": [
              "<Figure size 1152x576 with 1 Axes>"
            ]
          },
          "metadata": {
            "needs_background": "light"
          }
        },
        {
          "output_type": "display_data",
          "data": {
            "image/png": "[encoded data removed]",
            "text/plain": [
              "<Figure size 1152x576 with 1 Axes>"
            ]
          },
          "metadata": {
            "needs_background": "light"
          }
        }
      ]
    },
    {
      "cell_type": "markdown",
      "source": [
        ""
      ],
      "metadata": {
        "id": "CC6skF4t18zH"
      }
    },
    {
      "cell_type": "markdown",
      "source": [
        "## Classification report, precision, recall, F1 score, support and ACC, Confusion matrix"
      ],
      "metadata": {
        "id": "m8G6oBU6184G"
      }
    },
    {
      "cell_type": "code",
      "source": [
        "ypred = model.predict(xtest)\n",
        "ypred = np.argmax(ypred, axis=1)\n",
        "ytest = np.argmax(ytest, axis=1)"
      ],
      "metadata": {
        "id": "PtvZmlLQ9C6k"
      },
      "execution_count": 82,
      "outputs": []
    },
    {
      "cell_type": "code",
      "source": [
        "from sklearn.metrics import classification_report\n",
        "classification_report(ytest, ypred, output_dict = True)"
      ],
      "metadata": {
        "colab": {
          "base_uri": "https://localhost:8080/"
        },
        "id": "F0hNQTx-3C6Z",
        "outputId": "637dc70b-52a9-465f-e4bc-d84a64cbb42f"
      },
      "execution_count": 83,
      "outputs": [
        {
          "output_type": "stream",
          "name": "stderr",
          "text": [
            "/usr/local/lib/python3.7/dist-packages/sklearn/metrics/_classification.py:1308: UndefinedMetricWarning: Precision and F-score are ill-defined and being set to 0.0 in labels with no predicted samples. Use `zero_division` parameter to control this behavior.\n",
            "  _warn_prf(average, modifier, msg_start, len(result))\n",
            "/usr/local/lib/python3.7/dist-packages/sklearn/metrics/_classification.py:1308: UndefinedMetricWarning: Precision and F-score are ill-defined and being set to 0.0 in labels with no predicted samples. Use `zero_division` parameter to control this behavior.\n",
            "  _warn_prf(average, modifier, msg_start, len(result))\n",
            "/usr/local/lib/python3.7/dist-packages/sklearn/metrics/_classification.py:1308: UndefinedMetricWarning: Precision and F-score are ill-defined and being set to 0.0 in labels with no predicted samples. Use `zero_division` parameter to control this behavior.\n",
            "  _warn_prf(average, modifier, msg_start, len(result))\n"
          ]
        },
        {
          "output_type": "execute_result",
          "data": {
            "text/plain": [
              "{'0': {'f1-score': 0.0, 'precision': 0.0, 'recall': 0.0, 'support': 35},\n",
              " '1': {'f1-score': 0.0, 'precision': 0.0, 'recall': 0.0, 'support': 17},\n",
              " '10': {'f1-score': 0.8755544802000162,\n",
              "  'precision': 0.7791014783981628,\n",
              "  'recall': 0.9992636229749632,\n",
              "  'support': 10864},\n",
              " '2': {'f1-score': 0.0, 'precision': 0.0, 'recall': 0.0, 'support': 20},\n",
              " '3': {'f1-score': 0.0, 'precision': 0.0, 'recall': 0.0, 'support': 26},\n",
              " '4': {'f1-score': 0.0, 'precision': 0.0, 'recall': 0.0, 'support': 46},\n",
              " '5': {'f1-score': 0.0, 'precision': 0.0, 'recall': 0.0, 'support': 111},\n",
              " '6': {'f1-score': 0.0, 'precision': 0.0, 'recall': 0.0, 'support': 97},\n",
              " '7': {'f1-score': 0.0, 'precision': 0.0, 'recall': 0.0, 'support': 332},\n",
              " '8': {'f1-score': 0.052845528455284556,\n",
              "  'precision': 0.325,\n",
              "  'recall': 0.028761061946902654,\n",
              "  'support': 904},\n",
              " '9': {'f1-score': 0.0, 'precision': 0.0, 'recall': 0.0, 'support': 1562},\n",
              " 'accuracy': 0.7765092050806337,\n",
              " 'macro avg': {'f1-score': 0.08440000078684552,\n",
              "  'precision': 0.10037286167256027,\n",
              "  'recall': 0.09345678953835145,\n",
              "  'support': 14014},\n",
              " 'weighted avg': {'f1-score': 0.6821604274737086,\n",
              "  'precision': 0.6249435180046838,\n",
              "  'recall': 0.7765092050806337,\n",
              "  'support': 14014}}"
            ]
          },
          "metadata": {},
          "execution_count": 83
        }
      ]
    },
    {
      "cell_type": "code",
      "source": [
        "target_names = ['0','1','2','3','4','5','6','7','8','9','10']\n",
        "print(classification_report(ytest, ypred, target_names = target_names))"
      ],
      "metadata": {
        "colab": {
          "base_uri": "https://localhost:8080/"
        },
        "id": "Yv1dBEQAAvgF",
        "outputId": "8bf594b6-6d52-416b-8068-e79cea0335a3"
      },
      "execution_count": 84,
      "outputs": [
        {
          "output_type": "stream",
          "name": "stdout",
          "text": [
            "              precision    recall  f1-score   support\n",
            "\n",
            "           0       0.00      0.00      0.00        35\n",
            "           1       0.00      0.00      0.00        17\n",
            "           2       0.00      0.00      0.00        20\n",
            "           3       0.00      0.00      0.00        26\n",
            "           4       0.00      0.00      0.00        46\n",
            "           5       0.00      0.00      0.00       111\n",
            "           6       0.00      0.00      0.00        97\n",
            "           7       0.00      0.00      0.00       332\n",
            "           8       0.33      0.03      0.05       904\n",
            "           9       0.00      0.00      0.00      1562\n",
            "          10       0.78      1.00      0.88     10864\n",
            "\n",
            "    accuracy                           0.78     14014\n",
            "   macro avg       0.10      0.09      0.08     14014\n",
            "weighted avg       0.62      0.78      0.68     14014\n",
            "\n"
          ]
        },
        {
          "output_type": "stream",
          "name": "stderr",
          "text": [
            "/usr/local/lib/python3.7/dist-packages/sklearn/metrics/_classification.py:1308: UndefinedMetricWarning: Precision and F-score are ill-defined and being set to 0.0 in labels with no predicted samples. Use `zero_division` parameter to control this behavior.\n",
            "  _warn_prf(average, modifier, msg_start, len(result))\n",
            "/usr/local/lib/python3.7/dist-packages/sklearn/metrics/_classification.py:1308: UndefinedMetricWarning: Precision and F-score are ill-defined and being set to 0.0 in labels with no predicted samples. Use `zero_division` parameter to control this behavior.\n",
            "  _warn_prf(average, modifier, msg_start, len(result))\n",
            "/usr/local/lib/python3.7/dist-packages/sklearn/metrics/_classification.py:1308: UndefinedMetricWarning: Precision and F-score are ill-defined and being set to 0.0 in labels with no predicted samples. Use `zero_division` parameter to control this behavior.\n",
            "  _warn_prf(average, modifier, msg_start, len(result))\n"
          ]
        }
      ]
    },
    {
      "cell_type": "code",
      "source": [
        "from sklearn.metrics import confusion_matrix\n",
        "cm = confusion_matrix(ytest, ypred)\n",
        "print(cm)"
      ],
      "metadata": {
        "colab": {
          "base_uri": "https://localhost:8080/"
        },
        "id": "FXiEmiK_AZUl",
        "outputId": "db970d0b-e496-48a7-c563-7628c414a930"
      },
      "execution_count": 70,
      "outputs": [
        {
          "output_type": "stream",
          "name": "stdout",
          "text": [
            "[[   0    0    0    0    0    0    0    0    4    0   40]\n",
            " [   0    0    0    0    0    0    0    0    2    0   13]\n",
            " [   0    0    0    0    0    0    0    0    0    0   13]\n",
            " [   0    0    0    0    0    0    0    0    5    0   25]\n",
            " [   0    0    0    0    0    0    0    0    2    0   38]\n",
            " [   0    0    0    0    0    0    0    0   14    0   98]\n",
            " [   0    0    0    0    0    0    0    0    9    0   77]\n",
            " [   0    0    0    0    0    0    0    0   21    0  222]\n",
            " [   0    0    0    0    0    0    0    0   27    0  690]\n",
            " [   0    0    0    0    0    0    0    0    4    0 1194]\n",
            " [   0    0    0    0    0    0    0    0   13    0 8814]]\n"
          ]
        }
      ]
    },
    {
      "cell_type": "markdown",
      "source": [
        "## Summary and Improvement:\n",
        "\n",
        "## 1. Using bidirectional GRU Neural Network the acc reached 0.78.\n",
        "## 2. However, the data is very imbalanced, it is hard to predict the minority categories.\n",
        "## Improvement:\n",
        "## 1. From data processing point of view:\n",
        "## Undersampling score 10 and oversampling other scores; or combine scores 0 to 8 as class 1, score 9 as class 2, score 10 as class 3.\n",
        "## 2. From the Accuracy and Loss curves we can increase the model complex by add more GRU layers, or combine CNN/GRU, CNN/LSTM etc. to increase model accuracy;\n",
        "## 3. Fine tune hyperparameters: batch size, learning rate, epocks, units in each layer, dropout rate, embedding dimentions etc. \n",
        "## 4. Try transformer, BERT which might be outperformence GRU etc. recurrent neural networks.\n",
        "\n"
      ],
      "metadata": {
        "id": "iCoPY8qn3GW3"
      }
    },
    {
      "cell_type": "markdown",
      "source": [
        ""
      ],
      "metadata": {
        "id": "m80bCwbY3GbX"
      }
    }
  ]
}